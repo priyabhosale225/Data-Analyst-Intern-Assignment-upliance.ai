{
 "cells": [
  {
   "cell_type": "code",
   "execution_count": 1,
   "id": "1890a0d7-9677-42b8-8762-f69d57d4ebd4",
   "metadata": {},
   "outputs": [],
   "source": [
    "import pandas as pd \n",
    "import numpy as np \n",
    "import matplotlib.pyplot as plt \n",
    "import seaborn as sns"
   ]
  },
  {
   "cell_type": "code",
   "execution_count": 3,
   "id": "2e526cc4-5cbe-475f-8f65-a122d4e4d2af",
   "metadata": {},
   "outputs": [],
   "source": [
    "# Load datasets\n",
    "user_details = pd.read_excel(\"C:/Users/218882/Downloads/Assignment.xlsx\", sheet_name='UserDetails.csv')\n",
    "cooking_sessions = pd.read_excel(\"C:/Users/218882/Downloads/Assignment.xlsx\", sheet_name='CookingSessions.csv')\n",
    "order_details = pd.read_excel(\"C:/Users/218882/Downloads/Assignment.xlsx\", sheet_name='OrderDetails.csv')"
   ]
  },
  {
   "cell_type": "code",
   "execution_count": 5,
   "id": "d876de51-e59c-4414-aaa5-d6d00b9103d1",
   "metadata": {},
   "outputs": [
    {
     "data": {
      "text/html": [
       "<div>\n",
       "<style scoped>\n",
       "    .dataframe tbody tr th:only-of-type {\n",
       "        vertical-align: middle;\n",
       "    }\n",
       "\n",
       "    .dataframe tbody tr th {\n",
       "        vertical-align: top;\n",
       "    }\n",
       "\n",
       "    .dataframe thead th {\n",
       "        text-align: right;\n",
       "    }\n",
       "</style>\n",
       "<table border=\"1\" class=\"dataframe\">\n",
       "  <thead>\n",
       "    <tr style=\"text-align: right;\">\n",
       "      <th></th>\n",
       "      <th>User ID</th>\n",
       "      <th>User Name</th>\n",
       "      <th>Age</th>\n",
       "      <th>Location</th>\n",
       "      <th>Registration Date</th>\n",
       "      <th>Phone</th>\n",
       "      <th>Email</th>\n",
       "      <th>Favorite Meal</th>\n",
       "      <th>Total Orders</th>\n",
       "    </tr>\n",
       "  </thead>\n",
       "  <tbody>\n",
       "    <tr>\n",
       "      <th>0</th>\n",
       "      <td>U001</td>\n",
       "      <td>Alice Johnson</td>\n",
       "      <td>28</td>\n",
       "      <td>New York</td>\n",
       "      <td>2023-01-15</td>\n",
       "      <td>123-456-7890</td>\n",
       "      <td>alice@email.com</td>\n",
       "      <td>Dinner</td>\n",
       "      <td>12</td>\n",
       "    </tr>\n",
       "    <tr>\n",
       "      <th>1</th>\n",
       "      <td>U002</td>\n",
       "      <td>Bob Smith</td>\n",
       "      <td>35</td>\n",
       "      <td>Los Angeles</td>\n",
       "      <td>2023-02-20</td>\n",
       "      <td>987-654-3210</td>\n",
       "      <td>bob@email.com</td>\n",
       "      <td>Lunch</td>\n",
       "      <td>8</td>\n",
       "    </tr>\n",
       "    <tr>\n",
       "      <th>2</th>\n",
       "      <td>U003</td>\n",
       "      <td>Charlie Lee</td>\n",
       "      <td>42</td>\n",
       "      <td>Chicago</td>\n",
       "      <td>2023-03-10</td>\n",
       "      <td>555-123-4567</td>\n",
       "      <td>charlie@email.com</td>\n",
       "      <td>Breakfast</td>\n",
       "      <td>15</td>\n",
       "    </tr>\n",
       "    <tr>\n",
       "      <th>3</th>\n",
       "      <td>U004</td>\n",
       "      <td>David Brown</td>\n",
       "      <td>27</td>\n",
       "      <td>San Francisco</td>\n",
       "      <td>2023-04-05</td>\n",
       "      <td>444-333-2222</td>\n",
       "      <td>david@email.com</td>\n",
       "      <td>Dinner</td>\n",
       "      <td>10</td>\n",
       "    </tr>\n",
       "    <tr>\n",
       "      <th>4</th>\n",
       "      <td>U005</td>\n",
       "      <td>Emma White</td>\n",
       "      <td>30</td>\n",
       "      <td>Seattle</td>\n",
       "      <td>2023-05-22</td>\n",
       "      <td>777-888-9999</td>\n",
       "      <td>emma@email.com</td>\n",
       "      <td>Lunch</td>\n",
       "      <td>9</td>\n",
       "    </tr>\n",
       "  </tbody>\n",
       "</table>\n",
       "</div>"
      ],
      "text/plain": [
       "  User ID      User Name  Age       Location Registration Date         Phone  \\\n",
       "0    U001  Alice Johnson   28       New York        2023-01-15  123-456-7890   \n",
       "1    U002      Bob Smith   35    Los Angeles        2023-02-20  987-654-3210   \n",
       "2    U003    Charlie Lee   42        Chicago        2023-03-10  555-123-4567   \n",
       "3    U004    David Brown   27  San Francisco        2023-04-05  444-333-2222   \n",
       "4    U005     Emma White   30        Seattle        2023-05-22  777-888-9999   \n",
       "\n",
       "               Email Favorite Meal  Total Orders  \n",
       "0    alice@email.com        Dinner            12  \n",
       "1      bob@email.com         Lunch             8  \n",
       "2  charlie@email.com     Breakfast            15  \n",
       "3    david@email.com        Dinner            10  \n",
       "4     emma@email.com         Lunch             9  "
      ]
     },
     "execution_count": 5,
     "metadata": {},
     "output_type": "execute_result"
    }
   ],
   "source": [
    "user_details.head()"
   ]
  },
  {
   "cell_type": "code",
   "execution_count": 7,
   "id": "4bab0649-34b6-4ec1-948a-f977fc46b255",
   "metadata": {},
   "outputs": [
    {
     "data": {
      "text/html": [
       "<div>\n",
       "<style scoped>\n",
       "    .dataframe tbody tr th:only-of-type {\n",
       "        vertical-align: middle;\n",
       "    }\n",
       "\n",
       "    .dataframe tbody tr th {\n",
       "        vertical-align: top;\n",
       "    }\n",
       "\n",
       "    .dataframe thead th {\n",
       "        text-align: right;\n",
       "    }\n",
       "</style>\n",
       "<table border=\"1\" class=\"dataframe\">\n",
       "  <thead>\n",
       "    <tr style=\"text-align: right;\">\n",
       "      <th></th>\n",
       "      <th>Session ID</th>\n",
       "      <th>User ID</th>\n",
       "      <th>Dish Name</th>\n",
       "      <th>Meal Type</th>\n",
       "      <th>Session Start</th>\n",
       "      <th>Session End</th>\n",
       "      <th>Duration (mins)</th>\n",
       "      <th>Session Rating</th>\n",
       "    </tr>\n",
       "  </thead>\n",
       "  <tbody>\n",
       "    <tr>\n",
       "      <th>0</th>\n",
       "      <td>S001</td>\n",
       "      <td>U001</td>\n",
       "      <td>Spaghetti</td>\n",
       "      <td>Dinner</td>\n",
       "      <td>2024-12-01 19:00:00</td>\n",
       "      <td>2024-12-01 19:30:00</td>\n",
       "      <td>30</td>\n",
       "      <td>4.5</td>\n",
       "    </tr>\n",
       "    <tr>\n",
       "      <th>1</th>\n",
       "      <td>S002</td>\n",
       "      <td>U002</td>\n",
       "      <td>Caesar Salad</td>\n",
       "      <td>Lunch</td>\n",
       "      <td>2024-12-01 12:00:00</td>\n",
       "      <td>2024-12-01 12:20:00</td>\n",
       "      <td>20</td>\n",
       "      <td>4.0</td>\n",
       "    </tr>\n",
       "    <tr>\n",
       "      <th>2</th>\n",
       "      <td>S003</td>\n",
       "      <td>U003</td>\n",
       "      <td>Grilled Chicken</td>\n",
       "      <td>Dinner</td>\n",
       "      <td>2024-12-02 19:30:00</td>\n",
       "      <td>2024-12-02 20:10:00</td>\n",
       "      <td>40</td>\n",
       "      <td>4.8</td>\n",
       "    </tr>\n",
       "    <tr>\n",
       "      <th>3</th>\n",
       "      <td>S004</td>\n",
       "      <td>U001</td>\n",
       "      <td>Pancakes</td>\n",
       "      <td>Breakfast</td>\n",
       "      <td>2024-12-02 07:30:00</td>\n",
       "      <td>2024-12-02 08:00:00</td>\n",
       "      <td>30</td>\n",
       "      <td>4.2</td>\n",
       "    </tr>\n",
       "    <tr>\n",
       "      <th>4</th>\n",
       "      <td>S005</td>\n",
       "      <td>U004</td>\n",
       "      <td>Caesar Salad</td>\n",
       "      <td>Lunch</td>\n",
       "      <td>2024-12-03 13:00:00</td>\n",
       "      <td>2024-12-03 13:15:00</td>\n",
       "      <td>15</td>\n",
       "      <td>4.7</td>\n",
       "    </tr>\n",
       "  </tbody>\n",
       "</table>\n",
       "</div>"
      ],
      "text/plain": [
       "  Session ID User ID        Dish Name  Meal Type       Session Start  \\\n",
       "0       S001    U001        Spaghetti     Dinner 2024-12-01 19:00:00   \n",
       "1       S002    U002     Caesar Salad      Lunch 2024-12-01 12:00:00   \n",
       "2       S003    U003  Grilled Chicken     Dinner 2024-12-02 19:30:00   \n",
       "3       S004    U001         Pancakes  Breakfast 2024-12-02 07:30:00   \n",
       "4       S005    U004     Caesar Salad      Lunch 2024-12-03 13:00:00   \n",
       "\n",
       "          Session End  Duration (mins)  Session Rating  \n",
       "0 2024-12-01 19:30:00               30             4.5  \n",
       "1 2024-12-01 12:20:00               20             4.0  \n",
       "2 2024-12-02 20:10:00               40             4.8  \n",
       "3 2024-12-02 08:00:00               30             4.2  \n",
       "4 2024-12-03 13:15:00               15             4.7  "
      ]
     },
     "execution_count": 7,
     "metadata": {},
     "output_type": "execute_result"
    }
   ],
   "source": [
    "cooking_sessions.head()"
   ]
  },
  {
   "cell_type": "code",
   "execution_count": 9,
   "id": "26a94b13-95c7-474e-a07f-871c5f46eb36",
   "metadata": {},
   "outputs": [
    {
     "data": {
      "text/html": [
       "<div>\n",
       "<style scoped>\n",
       "    .dataframe tbody tr th:only-of-type {\n",
       "        vertical-align: middle;\n",
       "    }\n",
       "\n",
       "    .dataframe tbody tr th {\n",
       "        vertical-align: top;\n",
       "    }\n",
       "\n",
       "    .dataframe thead th {\n",
       "        text-align: right;\n",
       "    }\n",
       "</style>\n",
       "<table border=\"1\" class=\"dataframe\">\n",
       "  <thead>\n",
       "    <tr style=\"text-align: right;\">\n",
       "      <th></th>\n",
       "      <th>Order ID</th>\n",
       "      <th>User ID</th>\n",
       "      <th>Order Date</th>\n",
       "      <th>Meal Type</th>\n",
       "      <th>Dish Name</th>\n",
       "      <th>Order Status</th>\n",
       "      <th>Amount (USD)</th>\n",
       "      <th>Time of Day</th>\n",
       "      <th>Rating</th>\n",
       "      <th>Session ID</th>\n",
       "    </tr>\n",
       "  </thead>\n",
       "  <tbody>\n",
       "    <tr>\n",
       "      <th>0</th>\n",
       "      <td>1001</td>\n",
       "      <td>U001</td>\n",
       "      <td>2024-12-01</td>\n",
       "      <td>Dinner</td>\n",
       "      <td>Spaghetti</td>\n",
       "      <td>Completed</td>\n",
       "      <td>15.0</td>\n",
       "      <td>Night</td>\n",
       "      <td>5.0</td>\n",
       "      <td>S001</td>\n",
       "    </tr>\n",
       "    <tr>\n",
       "      <th>1</th>\n",
       "      <td>1002</td>\n",
       "      <td>U002</td>\n",
       "      <td>2024-12-01</td>\n",
       "      <td>Lunch</td>\n",
       "      <td>Caesar Salad</td>\n",
       "      <td>Completed</td>\n",
       "      <td>10.0</td>\n",
       "      <td>Day</td>\n",
       "      <td>4.0</td>\n",
       "      <td>S002</td>\n",
       "    </tr>\n",
       "    <tr>\n",
       "      <th>2</th>\n",
       "      <td>1003</td>\n",
       "      <td>U003</td>\n",
       "      <td>2024-12-02</td>\n",
       "      <td>Dinner</td>\n",
       "      <td>Grilled Chicken</td>\n",
       "      <td>Canceled</td>\n",
       "      <td>12.5</td>\n",
       "      <td>Night</td>\n",
       "      <td>NaN</td>\n",
       "      <td>S003</td>\n",
       "    </tr>\n",
       "    <tr>\n",
       "      <th>3</th>\n",
       "      <td>1004</td>\n",
       "      <td>U001</td>\n",
       "      <td>2024-12-02</td>\n",
       "      <td>Breakfast</td>\n",
       "      <td>Pancakes</td>\n",
       "      <td>Completed</td>\n",
       "      <td>8.0</td>\n",
       "      <td>Morning</td>\n",
       "      <td>4.0</td>\n",
       "      <td>S004</td>\n",
       "    </tr>\n",
       "    <tr>\n",
       "      <th>4</th>\n",
       "      <td>1005</td>\n",
       "      <td>U004</td>\n",
       "      <td>2024-12-03</td>\n",
       "      <td>Lunch</td>\n",
       "      <td>Caesar Salad</td>\n",
       "      <td>Completed</td>\n",
       "      <td>9.0</td>\n",
       "      <td>Day</td>\n",
       "      <td>4.0</td>\n",
       "      <td>S005</td>\n",
       "    </tr>\n",
       "  </tbody>\n",
       "</table>\n",
       "</div>"
      ],
      "text/plain": [
       "   Order ID User ID Order Date  Meal Type        Dish Name Order Status  \\\n",
       "0      1001    U001 2024-12-01     Dinner        Spaghetti    Completed   \n",
       "1      1002    U002 2024-12-01      Lunch     Caesar Salad    Completed   \n",
       "2      1003    U003 2024-12-02     Dinner  Grilled Chicken     Canceled   \n",
       "3      1004    U001 2024-12-02  Breakfast         Pancakes    Completed   \n",
       "4      1005    U004 2024-12-03      Lunch     Caesar Salad    Completed   \n",
       "\n",
       "   Amount (USD) Time of Day  Rating Session ID  \n",
       "0          15.0       Night     5.0       S001  \n",
       "1          10.0         Day     4.0       S002  \n",
       "2          12.5       Night     NaN       S003  \n",
       "3           8.0     Morning     4.0       S004  \n",
       "4           9.0         Day     4.0       S005  "
      ]
     },
     "execution_count": 9,
     "metadata": {},
     "output_type": "execute_result"
    }
   ],
   "source": [
    "order_details.head()"
   ]
  },
  {
   "cell_type": "code",
   "execution_count": 11,
   "id": "6c8b9a03-51fa-4e91-83e3-c4498ec23855",
   "metadata": {},
   "outputs": [
    {
     "data": {
      "text/plain": [
       "(10, 9)"
      ]
     },
     "execution_count": 11,
     "metadata": {},
     "output_type": "execute_result"
    }
   ],
   "source": [
    "user_details.shape"
   ]
  },
  {
   "cell_type": "code",
   "execution_count": 13,
   "id": "f0d839e9-612c-4aa9-b706-faec029b4475",
   "metadata": {},
   "outputs": [
    {
     "data": {
      "text/plain": [
       "(16, 8)"
      ]
     },
     "execution_count": 13,
     "metadata": {},
     "output_type": "execute_result"
    }
   ],
   "source": [
    "cooking_sessions.shape"
   ]
  },
  {
   "cell_type": "code",
   "execution_count": 15,
   "id": "bee4f2a5-9113-4696-8c98-3e49e79f393e",
   "metadata": {},
   "outputs": [
    {
     "data": {
      "text/plain": [
       "(16, 10)"
      ]
     },
     "execution_count": 15,
     "metadata": {},
     "output_type": "execute_result"
    }
   ],
   "source": [
    "order_details.shape"
   ]
  },
  {
   "cell_type": "code",
   "execution_count": 17,
   "id": "02737fc0-36ad-46ea-895d-170cdfd4dfdb",
   "metadata": {},
   "outputs": [
    {
     "name": "stdout",
     "output_type": "stream",
     "text": [
      "<class 'pandas.core.frame.DataFrame'>\n",
      "RangeIndex: 10 entries, 0 to 9\n",
      "Data columns (total 9 columns):\n",
      " #   Column             Non-Null Count  Dtype         \n",
      "---  ------             --------------  -----         \n",
      " 0   User ID            10 non-null     object        \n",
      " 1   User Name          10 non-null     object        \n",
      " 2   Age                10 non-null     int64         \n",
      " 3   Location           10 non-null     object        \n",
      " 4   Registration Date  10 non-null     datetime64[ns]\n",
      " 5   Phone              10 non-null     object        \n",
      " 6   Email              10 non-null     object        \n",
      " 7   Favorite Meal      10 non-null     object        \n",
      " 8   Total Orders       10 non-null     int64         \n",
      "dtypes: datetime64[ns](1), int64(2), object(6)\n",
      "memory usage: 852.0+ bytes\n"
     ]
    }
   ],
   "source": [
    "user_details.info()"
   ]
  },
  {
   "cell_type": "code",
   "execution_count": 19,
   "id": "6ad62e3e-7aba-452c-bae4-0419ce005bbc",
   "metadata": {},
   "outputs": [],
   "source": [
    "# Convert phone column to integer by removing non-numeric characters\n",
    "def clean_phone(Phone):\n",
    "    try:\n",
    "        return int(''.join(filter(str.isdigit, str(Phone))))\n",
    "    except (ValueError, TypeError):\n",
    "        return None\n",
    "\n",
    "user_details['Phone'] = user_details['Phone'].apply(clean_phone)"
   ]
  },
  {
   "cell_type": "code",
   "execution_count": 21,
   "id": "b5b09aed-79d4-4dbe-8e9e-3b2efe4f9e83",
   "metadata": {},
   "outputs": [
    {
     "name": "stdout",
     "output_type": "stream",
     "text": [
      "<class 'pandas.core.frame.DataFrame'>\n",
      "RangeIndex: 16 entries, 0 to 15\n",
      "Data columns (total 8 columns):\n",
      " #   Column           Non-Null Count  Dtype         \n",
      "---  ------           --------------  -----         \n",
      " 0   Session ID       16 non-null     object        \n",
      " 1   User ID          16 non-null     object        \n",
      " 2   Dish Name        16 non-null     object        \n",
      " 3   Meal Type        16 non-null     object        \n",
      " 4   Session Start    16 non-null     datetime64[ns]\n",
      " 5   Session End      16 non-null     datetime64[ns]\n",
      " 6   Duration (mins)  16 non-null     int64         \n",
      " 7   Session Rating   16 non-null     float64       \n",
      "dtypes: datetime64[ns](2), float64(1), int64(1), object(4)\n",
      "memory usage: 1.1+ KB\n"
     ]
    }
   ],
   "source": [
    "cooking_sessions.info()"
   ]
  },
  {
   "cell_type": "code",
   "execution_count": 23,
   "id": "fc2d9ccc-0930-40a2-8c49-83fe33eac191",
   "metadata": {},
   "outputs": [
    {
     "name": "stdout",
     "output_type": "stream",
     "text": [
      "<class 'pandas.core.frame.DataFrame'>\n",
      "RangeIndex: 16 entries, 0 to 15\n",
      "Data columns (total 10 columns):\n",
      " #   Column        Non-Null Count  Dtype         \n",
      "---  ------        --------------  -----         \n",
      " 0   Order ID      16 non-null     int64         \n",
      " 1   User ID       16 non-null     object        \n",
      " 2   Order Date    16 non-null     datetime64[ns]\n",
      " 3   Meal Type     16 non-null     object        \n",
      " 4   Dish Name     16 non-null     object        \n",
      " 5   Order Status  16 non-null     object        \n",
      " 6   Amount (USD)  16 non-null     float64       \n",
      " 7   Time of Day   16 non-null     object        \n",
      " 8   Rating        14 non-null     float64       \n",
      " 9   Session ID    16 non-null     object        \n",
      "dtypes: datetime64[ns](1), float64(2), int64(1), object(6)\n",
      "memory usage: 1.4+ KB\n"
     ]
    }
   ],
   "source": [
    "order_details.info()"
   ]
  },
  {
   "cell_type": "code",
   "execution_count": 25,
   "id": "04332111-89f7-4b0a-9792-04a62ea917c2",
   "metadata": {},
   "outputs": [],
   "source": [
    "# Standardize column names\n",
    "user_details.columns = user_details.columns.str.strip().str.lower().str.replace(' ', '_')\n",
    "cooking_sessions.columns = cooking_sessions.columns.str.strip().str.lower().str.replace(' ', '_')\n",
    "order_details.columns = order_details.columns.str.strip().str.lower().str.replace(' ', '_')"
   ]
  },
  {
   "cell_type": "code",
   "execution_count": 27,
   "id": "8779ffc6-2780-4a02-9175-8087d274b591",
   "metadata": {},
   "outputs": [
    {
     "data": {
      "text/plain": [
       "user_id              0\n",
       "user_name            0\n",
       "age                  0\n",
       "location             0\n",
       "registration_date    0\n",
       "phone                0\n",
       "email                0\n",
       "favorite_meal        0\n",
       "total_orders         0\n",
       "dtype: int64"
      ]
     },
     "execution_count": 27,
     "metadata": {},
     "output_type": "execute_result"
    }
   ],
   "source": [
    "# Standardize column names\n",
    "user_details.isnull().sum()"
   ]
  },
  {
   "cell_type": "code",
   "execution_count": 29,
   "id": "3d420c7b-59bc-4ecc-9d51-3de087f77626",
   "metadata": {},
   "outputs": [
    {
     "data": {
      "text/plain": [
       "session_id         0\n",
       "user_id            0\n",
       "dish_name          0\n",
       "meal_type          0\n",
       "session_start      0\n",
       "session_end        0\n",
       "duration_(mins)    0\n",
       "session_rating     0\n",
       "dtype: int64"
      ]
     },
     "execution_count": 29,
     "metadata": {},
     "output_type": "execute_result"
    }
   ],
   "source": [
    "cooking_sessions.isnull().sum()\n"
   ]
  },
  {
   "cell_type": "code",
   "execution_count": 31,
   "id": "539598c6-7bf6-4ee9-9691-bf35dc2a81c4",
   "metadata": {},
   "outputs": [
    {
     "data": {
      "text/plain": [
       "order_id        0\n",
       "user_id         0\n",
       "order_date      0\n",
       "meal_type       0\n",
       "dish_name       0\n",
       "order_status    0\n",
       "amount_(usd)    0\n",
       "time_of_day     0\n",
       "rating          2\n",
       "session_id      0\n",
       "dtype: int64"
      ]
     },
     "execution_count": 31,
     "metadata": {},
     "output_type": "execute_result"
    }
   ],
   "source": [
    "order_details.isnull().sum()"
   ]
  },
  {
   "cell_type": "code",
   "execution_count": 33,
   "id": "dc6ea851-7270-42c7-83fd-85818701de3a",
   "metadata": {},
   "outputs": [
    {
     "name": "stderr",
     "output_type": "stream",
     "text": [
      "C:\\Users\\218882\\AppData\\Local\\Temp\\ipykernel_2104\\2221276035.py:1: FutureWarning: A value is trying to be set on a copy of a DataFrame or Series through chained assignment using an inplace method.\n",
      "The behavior will change in pandas 3.0. This inplace method will never work because the intermediate object on which we are setting values always behaves as a copy.\n",
      "\n",
      "For example, when doing 'df[col].method(value, inplace=True)', try using 'df.method({col: value}, inplace=True)' or df[col] = df[col].method(value) instead, to perform the operation inplace on the original object.\n",
      "\n",
      "\n",
      "  order_details['rating'].fillna(order_details['rating'].mean(), inplace=True)\n"
     ]
    }
   ],
   "source": [
    "order_details['rating'].fillna(order_details['rating'].mean(), inplace=True)"
   ]
  },
  {
   "cell_type": "code",
   "execution_count": 48,
   "id": "46edefef-e391-41bf-9170-64b69f5639bc",
   "metadata": {},
   "outputs": [],
   "source": [
    "# 2. Check for duplicates and remove them\n",
    "user_details = user_details.drop_duplicates()\n",
    "cooking_sessions = cooking_sessions.drop_duplicates()\n",
    "order_details = order_details.drop_duplicates()"
   ]
  },
  {
   "cell_type": "code",
   "execution_count": 54,
   "id": "df2ea17d-388f-4ca9-8558-97bf42bda1ba",
   "metadata": {},
   "outputs": [],
   "source": [
    "# Step 2: Merge the Datasets\n",
    "# Merge UserDetails with CookingSessions on User ID\n",
    "merged_data = pd.merge(user_details, cooking_sessions, on='user_id', how='inner')\n"
   ]
  },
  {
   "cell_type": "code",
   "execution_count": 56,
   "id": "09bfc11a-c9a9-470f-814d-b5f892026cdc",
   "metadata": {},
   "outputs": [],
   "source": [
    "# Merge the resulting dataset with OrderDetails on User ID and Session ID\n",
    "merged_data = pd.merge(merged_data, order_details, on=['user_id', 'session_id'], how='inner')"
   ]
  },
  {
   "cell_type": "code",
   "execution_count": 58,
   "id": "6b56f946-79c2-4d12-888d-7045838a6705",
   "metadata": {},
   "outputs": [
    {
     "data": {
      "text/html": [
       "<div>\n",
       "<style scoped>\n",
       "    .dataframe tbody tr th:only-of-type {\n",
       "        vertical-align: middle;\n",
       "    }\n",
       "\n",
       "    .dataframe tbody tr th {\n",
       "        vertical-align: top;\n",
       "    }\n",
       "\n",
       "    .dataframe thead th {\n",
       "        text-align: right;\n",
       "    }\n",
       "</style>\n",
       "<table border=\"1\" class=\"dataframe\">\n",
       "  <thead>\n",
       "    <tr style=\"text-align: right;\">\n",
       "      <th></th>\n",
       "      <th>user_id</th>\n",
       "      <th>user_name</th>\n",
       "      <th>age</th>\n",
       "      <th>location</th>\n",
       "      <th>registration_date</th>\n",
       "      <th>phone</th>\n",
       "      <th>email</th>\n",
       "      <th>favorite_meal</th>\n",
       "      <th>total_orders</th>\n",
       "      <th>session_id</th>\n",
       "      <th>...</th>\n",
       "      <th>duration_(mins)</th>\n",
       "      <th>session_rating</th>\n",
       "      <th>order_id</th>\n",
       "      <th>order_date</th>\n",
       "      <th>meal_type_y</th>\n",
       "      <th>dish_name_y</th>\n",
       "      <th>order_status</th>\n",
       "      <th>amount_(usd)</th>\n",
       "      <th>time_of_day</th>\n",
       "      <th>rating</th>\n",
       "    </tr>\n",
       "  </thead>\n",
       "  <tbody>\n",
       "    <tr>\n",
       "      <th>0</th>\n",
       "      <td>U001</td>\n",
       "      <td>Alice Johnson</td>\n",
       "      <td>28</td>\n",
       "      <td>New York</td>\n",
       "      <td>2023-01-15</td>\n",
       "      <td>1234567890</td>\n",
       "      <td>alice@email.com</td>\n",
       "      <td>Dinner</td>\n",
       "      <td>12</td>\n",
       "      <td>S001</td>\n",
       "      <td>...</td>\n",
       "      <td>30</td>\n",
       "      <td>4.5</td>\n",
       "      <td>1001</td>\n",
       "      <td>2024-12-01</td>\n",
       "      <td>Dinner</td>\n",
       "      <td>Spaghetti</td>\n",
       "      <td>Completed</td>\n",
       "      <td>15.0</td>\n",
       "      <td>Night</td>\n",
       "      <td>5.0</td>\n",
       "    </tr>\n",
       "    <tr>\n",
       "      <th>1</th>\n",
       "      <td>U001</td>\n",
       "      <td>Alice Johnson</td>\n",
       "      <td>28</td>\n",
       "      <td>New York</td>\n",
       "      <td>2023-01-15</td>\n",
       "      <td>1234567890</td>\n",
       "      <td>alice@email.com</td>\n",
       "      <td>Dinner</td>\n",
       "      <td>12</td>\n",
       "      <td>S004</td>\n",
       "      <td>...</td>\n",
       "      <td>30</td>\n",
       "      <td>4.2</td>\n",
       "      <td>1004</td>\n",
       "      <td>2024-12-02</td>\n",
       "      <td>Breakfast</td>\n",
       "      <td>Pancakes</td>\n",
       "      <td>Completed</td>\n",
       "      <td>8.0</td>\n",
       "      <td>Morning</td>\n",
       "      <td>4.0</td>\n",
       "    </tr>\n",
       "    <tr>\n",
       "      <th>2</th>\n",
       "      <td>U001</td>\n",
       "      <td>Alice Johnson</td>\n",
       "      <td>28</td>\n",
       "      <td>New York</td>\n",
       "      <td>2023-01-15</td>\n",
       "      <td>1234567890</td>\n",
       "      <td>alice@email.com</td>\n",
       "      <td>Dinner</td>\n",
       "      <td>12</td>\n",
       "      <td>S009</td>\n",
       "      <td>...</td>\n",
       "      <td>40</td>\n",
       "      <td>4.9</td>\n",
       "      <td>1009</td>\n",
       "      <td>2024-12-05</td>\n",
       "      <td>Dinner</td>\n",
       "      <td>Grilled Chicken</td>\n",
       "      <td>Completed</td>\n",
       "      <td>12.0</td>\n",
       "      <td>Night</td>\n",
       "      <td>5.0</td>\n",
       "    </tr>\n",
       "    <tr>\n",
       "      <th>3</th>\n",
       "      <td>U002</td>\n",
       "      <td>Bob Smith</td>\n",
       "      <td>35</td>\n",
       "      <td>Los Angeles</td>\n",
       "      <td>2023-02-20</td>\n",
       "      <td>9876543210</td>\n",
       "      <td>bob@email.com</td>\n",
       "      <td>Lunch</td>\n",
       "      <td>8</td>\n",
       "      <td>S002</td>\n",
       "      <td>...</td>\n",
       "      <td>20</td>\n",
       "      <td>4.0</td>\n",
       "      <td>1002</td>\n",
       "      <td>2024-12-01</td>\n",
       "      <td>Lunch</td>\n",
       "      <td>Caesar Salad</td>\n",
       "      <td>Completed</td>\n",
       "      <td>10.0</td>\n",
       "      <td>Day</td>\n",
       "      <td>4.0</td>\n",
       "    </tr>\n",
       "    <tr>\n",
       "      <th>4</th>\n",
       "      <td>U002</td>\n",
       "      <td>Bob Smith</td>\n",
       "      <td>35</td>\n",
       "      <td>Los Angeles</td>\n",
       "      <td>2023-02-20</td>\n",
       "      <td>9876543210</td>\n",
       "      <td>bob@email.com</td>\n",
       "      <td>Lunch</td>\n",
       "      <td>8</td>\n",
       "      <td>S006</td>\n",
       "      <td>...</td>\n",
       "      <td>30</td>\n",
       "      <td>4.3</td>\n",
       "      <td>1006</td>\n",
       "      <td>2024-12-03</td>\n",
       "      <td>Dinner</td>\n",
       "      <td>Spaghetti</td>\n",
       "      <td>Completed</td>\n",
       "      <td>14.0</td>\n",
       "      <td>Night</td>\n",
       "      <td>4.0</td>\n",
       "    </tr>\n",
       "  </tbody>\n",
       "</table>\n",
       "<p>5 rows × 24 columns</p>\n",
       "</div>"
      ],
      "text/plain": [
       "  user_id      user_name  age     location registration_date       phone  \\\n",
       "0    U001  Alice Johnson   28     New York        2023-01-15  1234567890   \n",
       "1    U001  Alice Johnson   28     New York        2023-01-15  1234567890   \n",
       "2    U001  Alice Johnson   28     New York        2023-01-15  1234567890   \n",
       "3    U002      Bob Smith   35  Los Angeles        2023-02-20  9876543210   \n",
       "4    U002      Bob Smith   35  Los Angeles        2023-02-20  9876543210   \n",
       "\n",
       "             email favorite_meal  total_orders session_id  ...  \\\n",
       "0  alice@email.com        Dinner            12       S001  ...   \n",
       "1  alice@email.com        Dinner            12       S004  ...   \n",
       "2  alice@email.com        Dinner            12       S009  ...   \n",
       "3    bob@email.com         Lunch             8       S002  ...   \n",
       "4    bob@email.com         Lunch             8       S006  ...   \n",
       "\n",
       "  duration_(mins) session_rating order_id order_date  meal_type_y  \\\n",
       "0              30            4.5     1001 2024-12-01       Dinner   \n",
       "1              30            4.2     1004 2024-12-02    Breakfast   \n",
       "2              40            4.9     1009 2024-12-05       Dinner   \n",
       "3              20            4.0     1002 2024-12-01        Lunch   \n",
       "4              30            4.3     1006 2024-12-03       Dinner   \n",
       "\n",
       "       dish_name_y  order_status amount_(usd) time_of_day rating  \n",
       "0        Spaghetti     Completed         15.0       Night    5.0  \n",
       "1         Pancakes     Completed          8.0     Morning    4.0  \n",
       "2  Grilled Chicken     Completed         12.0       Night    5.0  \n",
       "3     Caesar Salad     Completed         10.0         Day    4.0  \n",
       "4        Spaghetti     Completed         14.0       Night    4.0  \n",
       "\n",
       "[5 rows x 24 columns]"
      ]
     },
     "execution_count": 58,
     "metadata": {},
     "output_type": "execute_result"
    }
   ],
   "source": [
    "merged_data.head()"
   ]
  },
  {
   "cell_type": "code",
   "execution_count": 60,
   "id": "e4ebd637-bfa6-4520-a0d1-affbd5189db8",
   "metadata": {},
   "outputs": [
    {
     "data": {
      "text/plain": [
       "(16, 24)"
      ]
     },
     "execution_count": 60,
     "metadata": {},
     "output_type": "execute_result"
    }
   ],
   "source": [
    "merged_data.shape"
   ]
  },
  {
   "cell_type": "code",
   "execution_count": 68,
   "id": "9ca51ad3-04d4-480f-be92-1fa2fc8589e8",
   "metadata": {},
   "outputs": [
    {
     "data": {
      "text/plain": [
       "100.0"
      ]
     },
     "execution_count": 68,
     "metadata": {},
     "output_type": "execute_result"
    }
   ],
   "source": [
    "# Step 3: Analysis\n",
    "# 1. Relationship between Cooking Sessions and User Orders\n",
    "sessions_with_orders = merged_data['session_id'].nunique()\n",
    "total_sessions = cooking_sessions['session_id'].nunique()\n",
    "session_order_ratio = sessions_with_orders / total_sessions * 100\n",
    "session_order_ratio"
   ]
  },
  {
   "cell_type": "code",
   "execution_count": 74,
   "id": "dcdc9efe-0d44-4bef-8277-461a1ba168ee",
   "metadata": {},
   "outputs": [
    {
     "data": {
      "text/plain": [
       "Index(['user_id', 'user_name', 'age', 'location', 'registration_date', 'phone',\n",
       "       'email', 'favorite_meal', 'total_orders', 'session_id', 'dish_name_x',\n",
       "       'meal_type_x', 'session_start', 'session_end', 'duration_(mins)',\n",
       "       'session_rating', 'order_id', 'order_date', 'meal_type_y',\n",
       "       'dish_name_y', 'order_status', 'amount_(usd)', 'time_of_day', 'rating'],\n",
       "      dtype='object')"
      ]
     },
     "execution_count": 74,
     "metadata": {},
     "output_type": "execute_result"
    }
   ],
   "source": [
    "merged_data.columns"
   ]
  },
  {
   "cell_type": "code",
   "execution_count": 80,
   "id": "1239df52-7a55-466e-99a8-231133e425c0",
   "metadata": {},
   "outputs": [],
   "source": [
    "# 2. Identify Popular Dishes\n",
    "popular_dishes = (\n",
    "    merged_data.groupby('dish_name_x')['order_id']\n",
    "    .count()\n",
    "    .sort_values(ascending=False)\n",
    "    .reset_index(name='order_count')\n",
    ")"
   ]
  },
  {
   "cell_type": "code",
   "execution_count": 84,
   "id": "2efff6bb-3bcb-46dd-bdf1-69892116a129",
   "metadata": {},
   "outputs": [],
   "source": [
    "# 3. Demographic Factors\n",
    "# Group by Age\n",
    "age_group_analysis = (\n",
    "    merged_data.groupby('age')[['amount_(usd)', 'session_rating']]\n",
    "    .mean()\n",
    "    .reset_index()\n",
    ")\n"
   ]
  },
  {
   "cell_type": "code",
   "execution_count": 86,
   "id": "4d5063c2-e1d9-4feb-8d9d-ad5790f9d2d0",
   "metadata": {},
   "outputs": [],
   "source": [
    "# Group by Location\n",
    "location_analysis = (\n",
    "    merged_data.groupby('location')[['amount_(usd)', 'session_rating']]\n",
    "    .mean()\n",
    "    .reset_index()\n",
    ")"
   ]
  },
  {
   "cell_type": "code",
   "execution_count": 88,
   "id": "b412a4c9-9d85-4eeb-af62-2c2bf75f4bec",
   "metadata": {},
   "outputs": [
    {
     "data": {
      "image/png": "[encoded data removed]",
      "text/plain": [
       "<Figure size 600x600 with 1 Axes>"
      ]
     },
     "metadata": {},
     "output_type": "display_data"
    }
   ],
   "source": [
    "# Visualizations\n",
    "# 1. Session-to-Order Conversion Rate\n",
    "plt.figure(figsize=(6, 6))\n",
    "plt.pie([sessions_with_orders, total_sessions - sessions_with_orders],\n",
    "        labels=['Sessions with Orders', 'Sessions without Orders'],\n",
    "        autopct='%1.1f%%', colors=['#4CAF50', '#FFC107'])\n",
    "plt.title('Session-to-Order Conversion Rate')\n",
    "plt.show()"
   ]
  },
  {
   "cell_type": "code",
   "execution_count": 92,
   "id": "ecae3c18-1a0c-4b8c-be61-46de14bbcb96",
   "metadata": {},
   "outputs": [
    {
     "name": "stderr",
     "output_type": "stream",
     "text": [
      "C:\\Users\\218882\\AppData\\Local\\Temp\\ipykernel_2104\\2749614137.py:3: FutureWarning: \n",
      "\n",
      "Passing `palette` without assigning `hue` is deprecated and will be removed in v0.14.0. Assign the `y` variable to `hue` and set `legend=False` for the same effect.\n",
      "\n",
      "  sns.barplot(x='order_count', y='dish_name_x', data=popular_dishes.head(5), palette='viridis')\n"
     ]
    },
    {
     "data": {
      "image/png": "[encoded data removed]",
      "text/plain": [
       "<Figure size 1000x600 with 1 Axes>"
      ]
     },
     "metadata": {},
     "output_type": "display_data"
    }
   ],
   "source": [
    "# 2. Popular Dishes\n",
    "plt.figure(figsize=(10, 6))\n",
    "sns.barplot(x='order_count', y='dish_name_x', data=popular_dishes.head(5), palette='viridis')\n",
    "plt.title('Top 5 Popular Dishes')\n",
    "plt.xlabel('Order Count')\n",
    "plt.ylabel('Dish Name')\n",
    "plt.show()\n"
   ]
  },
  {
   "cell_type": "code",
   "execution_count": 94,
   "id": "6b977600-c872-4aaa-a581-98b0b33c11ca",
   "metadata": {},
   "outputs": [
    {
     "data": {
      "image/png": "[encoded data removed]",
      "text/plain": [
       "<Figure size 1000x600 with 1 Axes>"
      ]
     },
     "metadata": {},
     "output_type": "display_data"
    }
   ],
   "source": [
    "# 3. Age Group Analysis\n",
    "plt.figure(figsize=(10, 6))\n",
    "sns.barplot(x='age', y='amount_(usd)', data=age_group_analysis, color='skyblue', label='Avg Spend')\n",
    "sns.barplot(x='age', y='session_rating', data=age_group_analysis, color='orange', alpha=0.6, label='Avg Rating')\n",
    "plt.title('Age Group Analysis: Spending vs. Ratings')\n",
    "plt.ylabel('Value')\n",
    "plt.legend()\n",
    "plt.show()"
   ]
  },
  {
   "cell_type": "code",
   "execution_count": 100,
   "id": "9b3846c5-167d-4bbe-bcbb-3b2849937018",
   "metadata": {},
   "outputs": [
    {
     "data": {
      "image/png": "[encoded data removed]",
      "text/plain": [
       "<Figure size 1200x800 with 1 Axes>"
      ]
     },
     "metadata": {},
     "output_type": "display_data"
    }
   ],
   "source": [
    "# 4. Location-Based Analysis\n",
    "location_analysis_melted = location_analysis.melt(id_vars='location', var_name='metric', value_name='value')\n",
    "plt.figure(figsize=(12, 8))\n",
    "sns.barplot(x='value', y='location', hue='metric', data=location_analysis_melted, palette='Set2')\n",
    "plt.title('Location-Based Analysis: Spending and Ratings')\n",
    "plt.xlabel('Average Value')\n",
    "plt.ylabel('Location')\n",
    "plt.legend(title='Metric')\n",
    "plt.show()"
   ]
  },
  {
   "cell_type": "code",
   "execution_count": 116,
   "id": "46813996-34e9-4752-b02e-25215a6a34d4",
   "metadata": {},
   "outputs": [
    {
     "name": "stdout",
     "output_type": "stream",
     "text": [
      "\n",
      "#### Report: Analysis of User Behavior, Cooking Preferences, and Order Trends\n",
      "\n",
      "#### Introduction\n",
      "#### This project analyzed datasets related to user behavior, cooking preferences, and order trends. The analysis focused on:\n",
      "\n",
      "** Relationships between cooking sessions and user orders.\n",
      "** Popular dishes and demographic factors influencing user behavior.\n",
      "** Insights for improving user engagement and increasing order conversions.\n",
      "\n",
      "#### Key Findings\n",
      "1. Cooking Sessions and Order Trends\n",
      "Session-to-Order Conversion Rate:\n",
      "Approximately 100.00% of cooking sessions resulted in user orders.\n",
      "The conversion rate indicates significant engagement but highlights room for improvement.\n",
      "\n",
      "** Session Ratings and Orders:\n",
      "Higher-rated cooking sessions correlate with an increased likelihood of orders.\n",
      "\n",
      "2. Popular Dishes\n",
      "Top 5 Most Ordered Dishes:\n",
      "Grilled Chicken\n",
      "Spaghetti\n",
      "Caesar Salad\n",
      "Pancakes\n",
      "Veggie Burger\n",
      "Dinner-focused dishes are more popular, suggesting that evening sessions drive user engagement.\n",
      "\n",
      "3. Demographics and Spending Trends\n",
      "** Age Group Insights:\n",
      "Users aged 20-30 spend the most and provide the highest session ratings.\n",
      "Older age groups tend to order less frequently but spend more per order.\n",
      "\n",
      "** Location-Based Trends:\n",
      "Users in Austin have the highest average spending.\n",
      "Regional preferences influence dish popularity and session participation.\n",
      "\n",
      "\n"
     ]
    }
   ],
   "source": [
    "Report= f\"\"\"\n",
    "#### Report: Analysis of User Behavior, Cooking Preferences, and Order Trends\n",
    "\n",
    "#### Introduction\n",
    "#### This project analyzed datasets related to user behavior, cooking preferences, and order trends. The analysis focused on:\n",
    "\n",
    "** Relationships between cooking sessions and user orders.\n",
    "** Popular dishes and demographic factors influencing user behavior.\n",
    "** Insights for improving user engagement and increasing order conversions.\n",
    "\n",
    "#### Key Findings\n",
    "1. Cooking Sessions and Order Trends\n",
    "Session-to-Order Conversion Rate:\n",
    "Approximately {session_order_ratio:.2f}% of cooking sessions resulted in user orders.\n",
    "The conversion rate indicates significant engagement but highlights room for improvement.\n",
    "\n",
    "** Session Ratings and Orders:\n",
    "Higher-rated cooking sessions correlate with an increased likelihood of orders.\n",
    "\n",
    "2. Popular Dishes\n",
    "Top 5 Most Ordered Dishes:\n",
    "{popular_dishes.iloc[0, 0]}\n",
    "{popular_dishes.iloc[1, 0]}\n",
    "{popular_dishes.iloc[2, 0]}\n",
    "{popular_dishes.iloc[3, 0]}\n",
    "{popular_dishes.iloc[4, 0]}\n",
    "Dinner-focused dishes are more popular, suggesting that evening sessions drive user engagement.\n",
    "Highlight these dishes in marketing and offer combo deals.\n",
    "\n",
    "3. Demographics and Spending Trends\n",
    "** Age Group Insights:\n",
    "Users aged 20-30 spend the most and provide the highest session ratings.\n",
    "Older age groups tend to order less frequently but spend more per order.\n",
    "\n",
    "** Location-Based Trends:\n",
    "Users in {location_analysis.iloc[0]['location']} have the highest average spending.\n",
    "Regional preferences influence dish popularity and session participation.\n",
    "\n",
    "\"\"\"\n",
    "\n",
    "print(Report)"
   ]
  },
  {
   "cell_type": "markdown",
   "id": "0681b288-f2ee-4c90-b7e8-1a5cc597cb86",
   "metadata": {},
   "source": [
    "### Business Recommendations\n",
    "1) Increase Session-to-Order Conversion:\n",
    "   Introduce post-session incentives, such as discounts or exclusive deals, to encourage users to place orders after attending a session.\n",
    "   Highlight the ability to order session-prepared dishes for convenience.\n",
    "   \n",
    "2) Leverage Popular Dishes:\n",
    "   Promote top dishes through targeted advertising and combo offers.\n",
    "   Develop seasonal campaigns featuring popular dinner dishes.\n",
    "   \n",
    "3) Focus on High-Engagement Demographics:\n",
    "   Tailor marketing campaigns for the 20-30 age group, emphasizing premium services and exclusive offers.\n",
    "   Enhance user experiences in high-spending locations through localized events and personalized discounts.\n",
    "   \n",
    "4) Optimize Cooking Sessions:\n",
    "   Use feedback from high-rated sessions to standardize best practices.\n",
    "   Expand evening session options, catering to peak user activity times.\n",
    "   \n",
    "5) Expand Regional Offerings:\n",
    "   Identify dishes with location-specific popularity and diversify session offerings accordingly.\n",
    "   Partner with local chefs to incorporate culturally relevant menu items.\n",
    "   \n",
    "## Visualization Highlights\n",
    "Include charts for:\n",
    "1. Session-to-Order Conversion Rate.\n",
    "2. Top 5 Popular Dishes.\n",
    "3. Spending and Ratings by Age Group.\n",
    "5. Spending and Ratings by Location.\n"
   ]
  }
 ],
 "metadata": {
  "kernelspec": {
   "display_name": "Python 3 (ipykernel)",
   "language": "python",
   "name": "python3"
  },
  "language_info": {
   "codemirror_mode": {
    "name": "ipython",
    "version": 3
   },
   "file_extension": ".py",
   "mimetype": "text/x-python",
   "name": "python",
   "nbconvert_exporter": "python",
   "pygments_lexer": "ipython3",
   "version": "3.12.4"
  }
 },
 "nbformat": 4,
 "nbformat_minor": 5
}
